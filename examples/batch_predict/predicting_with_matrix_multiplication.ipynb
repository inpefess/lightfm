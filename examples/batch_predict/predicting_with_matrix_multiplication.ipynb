{
 "cells": [
  {
   "cell_type": "code",
   "execution_count": 1,
   "metadata": {},
   "outputs": [],
   "source": [
    "import numpy as np\n",
    "from lightfm import LightFM\n",
    "from scipy.sparse import csr_matrix, hstack, eye, coo_matrix\n",
    "\n",
    "# there is similar function in scipy but no exactly\n",
    "def get_sparse_matrix(\n",
    "    row_count: int,\n",
    "    col_count: int,\n",
    "    density: float\n",
    ") -> coo_matrix:\n",
    "    data_length = int(row_count * col_count * density)\n",
    "    rows = np.random.randint(low=0, high=row_count, size=data_length)\n",
    "    cols = np.random.randint(low=0, high=col_count, size=data_length)\n",
    "    data = np.ones(data_length)\n",
    "    return coo_matrix(\n",
    "        (data, (rows, cols)),\n",
    "        shape=(row_count, col_count)\n",
    "    )"
   ]
  },
  {
   "cell_type": "code",
   "execution_count": 2,
   "metadata": {},
   "outputs": [
    {
     "name": "stdout",
     "output_type": "stream",
     "text": [
      "Epoch 0\n",
      "CPU times: user 49min 29s, sys: 18.2 s, total: 49min 47s\n",
      "Wall time: 4min 37s\n"
     ]
    }
   ],
   "source": [
    "%%time\n",
    "# some kind of quite large model\n",
    "model = LightFM()\n",
    "user_count = 100000000\n",
    "item_count = 100000\n",
    "user_feature_count = 1000\n",
    "item_feature_count = 1000\n",
    "# we wil get recommendations by batches\n",
    "# assuming #users >> #items\n",
    "user_batch_size = 10000\n",
    "user_item = get_sparse_matrix(user_count, item_count, 0.0001)\n",
    "user_features = hstack([\n",
    "    eye(user_count),\n",
    "    get_sparse_matrix(user_count, user_feature_count, 0.001)\n",
    "]).tocsr()\n",
    "item_features = hstack([\n",
    "    eye(item_count),\n",
    "    get_sparse_matrix(item_count, item_feature_count, 0.001)\n",
    "]).tocsr()\n",
    "model.fit(\n",
    "    interactions=user_item,\n",
    "    user_features=user_features,\n",
    "    item_features=item_features,\n",
    "    sample_weight=user_item,\n",
    "    verbose=True,\n",
    "    num_threads=20\n",
    ")"
   ]
  },
  {
   "cell_type": "code",
   "execution_count": 3,
   "metadata": {},
   "outputs": [
    {
     "name": "stdout",
     "output_type": "stream",
     "text": [
      "4.04 s ± 22.4 ms per loop (mean ± std. dev. of 7 runs, 1 loop each)\n"
     ]
    }
   ],
   "source": [
    "%%timeit\n",
    "# simple numpy multiplication\n",
    "item_biases, item_embeddings = model.get_item_representations(item_features)\n",
    "user_biases, user_embeddings = model.get_user_representations(user_features[:user_batch_size])\n",
    "other_pred = (\n",
    "        user_embeddings.dot(item_embeddings.T) +\n",
    "        item_biases.reshape(1, -1) + user_biases.reshape(-1, 1)\n",
    ")"
   ]
  },
  {
   "cell_type": "code",
   "execution_count": 4,
   "metadata": {},
   "outputs": [
    {
     "name": "stdout",
     "output_type": "stream",
     "text": [
      "18.9 s ± 223 ms per loop (mean ± std. dev. of 7 runs, 1 loop each)\n"
     ]
    }
   ],
   "source": [
    "%%timeit\n",
    "# another way of getting recommendations\n",
    "# for a batch of users\n",
    "user_ids = np.repeat(np.arange(user_batch_size), item_count)\n",
    "item_ids = np.tile(np.arange(item_count), user_batch_size)\n",
    "pred = model.predict(\n",
    "    user_ids=user_ids,\n",
    "    item_ids=item_ids,\n",
    "    item_features=item_features,\n",
    "    user_features=user_features,\n",
    "    num_threads=20\n",
    ").reshape(user_batch_size, item_count)"
   ]
  },
  {
   "cell_type": "code",
   "execution_count": 7,
   "metadata": {},
   "outputs": [
    {
     "name": "stdout",
     "output_type": "stream",
     "text": [
      "6.6 s ± 42 ms per loop (mean ± std. dev. of 7 runs, 1 loop each)\n"
     ]
    }
   ],
   "source": [
    "%%timeit\n",
    "# creating indices is already very slow\n",
    "user_ids = np.repeat(np.arange(user_batch_size), item_count)\n",
    "item_ids = np.tile(np.arange(item_count), user_batch_size)"
   ]
  },
  {
   "cell_type": "code",
   "execution_count": 5,
   "metadata": {},
   "outputs": [],
   "source": [
    "user_ids = np.repeat(np.arange(user_batch_size), item_count)\n",
    "item_ids = np.tile(np.arange(item_count), user_batch_size)"
   ]
  },
  {
   "cell_type": "code",
   "execution_count": 6,
   "metadata": {},
   "outputs": [
    {
     "name": "stdout",
     "output_type": "stream",
     "text": [
      "12.4 s ± 318 ms per loop (mean ± std. dev. of 7 runs, 1 loop each)\n"
     ]
    }
   ],
   "source": [
    "%%timeit\n",
    "# and predict method is even slower\n",
    "pred = model.predict(\n",
    "    user_ids=user_ids,\n",
    "    item_ids=item_ids,\n",
    "    item_features=item_features,\n",
    "    user_features=user_features,\n",
    "    num_threads=20\n",
    ").reshape(user_batch_size, item_count)"
   ]
  },
  {
   "cell_type": "code",
   "execution_count": null,
   "metadata": {},
   "outputs": [],
   "source": []
  }
 ],
 "metadata": {
  "kernelspec": {
   "display_name": "Python 3",
   "language": "python",
   "name": "python3"
  },
  "language_info": {
   "codemirror_mode": {
    "name": "ipython",
    "version": 3
   },
   "file_extension": ".py",
   "mimetype": "text/x-python",
   "name": "python",
   "nbconvert_exporter": "python",
   "pygments_lexer": "ipython3",
   "version": "3.7.2"
  }
 },
 "nbformat": 4,
 "nbformat_minor": 2
}
